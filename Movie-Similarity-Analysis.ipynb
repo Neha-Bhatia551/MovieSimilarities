{
 "cells": [
  {
   "cell_type": "code",
   "execution_count": 1,
   "id": "370dd03c",
   "metadata": {},
   "outputs": [
    {
     "data": {
      "application/vnd.jupyter.widget-view+json": {
       "model_id": "d1d0282913884883be02414147d34a50",
       "version_major": 2,
       "version_minor": 0
      },
      "text/plain": [
       "VBox()"
      ]
     },
     "metadata": {},
     "output_type": "display_data"
    },
    {
     "name": "stdout",
     "output_type": "stream",
     "text": [
      "Starting Spark application\n"
     ]
    },
    {
     "data": {
      "text/html": [
       "<table>\n",
       "<tr><th>ID</th><th>YARN Application ID</th><th>Kind</th><th>State</th><th>Spark UI</th><th>Driver log</th><th>User</th><th>Current session?</th></tr><tr><td>1</td><td>application_1717027860258_0002</td><td>pyspark</td><td>idle</td><td><a target=\"_blank\" href=\"http://ip-172-31-44-195.ec2.internal:20888/proxy/application_1717027860258_0002/\" class=\"emr-proxy-link\" emr-resource=\"j-26OYJX6UD0QAV\n",
       "\" application-id=\"application_1717027860258_0002\">Link</a></td><td><a target=\"_blank\" href=\"http://ip-172-31-38-71.ec2.internal:8042/node/containerlogs/container_1717027860258_0002_01_000001/livy\" >Link</a></td><td>None</td><td>✔</td></tr></table>"
      ],
      "text/plain": [
       "<IPython.core.display.HTML object>"
      ]
     },
     "metadata": {},
     "output_type": "display_data"
    },
    {
     "data": {
      "application/vnd.jupyter.widget-view+json": {
       "model_id": "",
       "version_major": 2,
       "version_minor": 0
      },
      "text/plain": [
       "FloatProgress(value=0.0, bar_style='info', description='Progress:', layout=Layout(height='25px', width='50%'),…"
      ]
     },
     "metadata": {},
     "output_type": "display_data"
    },
    {
     "name": "stdout",
     "output_type": "stream",
     "text": [
      "SparkSession available as 'spark'.\n"
     ]
    },
    {
     "data": {
      "application/vnd.jupyter.widget-view+json": {
       "model_id": "",
       "version_major": 2,
       "version_minor": 0
      },
      "text/plain": [
       "FloatProgress(value=0.0, bar_style='info', description='Progress:', layout=Layout(height='25px', width='50%'),…"
      ]
     },
     "metadata": {},
     "output_type": "display_data"
    },
    {
     "name": "stdout",
     "output_type": "stream",
     "text": [
      "You are working with 4 core(s) on appid:  application_1717027860258_0002\n",
      "<pyspark.sql.session.SparkSession object at 0x7f1aa2c57e50>"
     ]
    }
   ],
   "source": [
    "# Import necessary modules\n",
    "import pyspark  # Only run this after findspark.init() if you need to initialize Spark in your environment\n",
    "from pyspark.sql import SparkSession\n",
    "from pyspark.sql.functions import udf\n",
    "\n",
    "# Initialize or retrieve the Spark session\n",
    "# Ensure SparkSession is already created and available as 'spark'\n",
    "# If 'spark' is not available, you need to create a SparkSession like below:\n",
    "# spark = SparkSession.builder.appName(\"exampleApp\").getOrCreate()\n",
    "\n",
    "# Get the number of cores being used\n",
    "cores = spark._jsc.sc().getExecutorMemoryStatus().keySet().size()\n",
    "\n",
    "# Get the application ID of the current Spark application\n",
    "appid = spark._jsc.sc().applicationId()\n",
    "\n",
    "# Print the number of cores and the application ID\n",
    "print(\"You are working with\", cores, \"core(s) on appid: \", appid)\n",
    "\n",
    "# Return the Spark session object (this will display the object in an interactive environment)\n",
    "spark"
   ]
  },
  {
   "cell_type": "code",
   "execution_count": 2,
   "id": "5c24146f",
   "metadata": {},
   "outputs": [
    {
     "data": {
      "application/vnd.jupyter.widget-view+json": {
       "model_id": "40ffc208b33c48db825b48e0db634e41",
       "version_major": 2,
       "version_minor": 0
      },
      "text/plain": [
       "VBox()"
      ]
     },
     "metadata": {},
     "output_type": "display_data"
    },
    {
     "data": {
      "application/vnd.jupyter.widget-view+json": {
       "model_id": "",
       "version_major": 2,
       "version_minor": 0
      },
      "text/plain": [
       "FloatProgress(value=0.0, bar_style='info', description='Progress:', layout=Layout(height='25px', width='50%'),…"
      ]
     },
     "metadata": {},
     "output_type": "display_data"
    },
    {
     "name": "stdout",
     "output_type": "stream",
     "text": [
      "Collecting pandas\n",
      "  Downloading pandas-2.2.2-cp39-cp39-manylinux_2_17_x86_64.manylinux2014_x86_64.whl (13.1 MB)\n",
      "Collecting python-dateutil>=2.8.2\n",
      "  Downloading python_dateutil-2.9.0.post0-py2.py3-none-any.whl (229 kB)\n",
      "Collecting numpy>=1.22.4\n",
      "  Downloading numpy-1.26.4-cp39-cp39-manylinux_2_17_x86_64.manylinux2014_x86_64.whl (18.2 MB)\n",
      "Requirement already satisfied: pytz>=2020.1 in /usr/local/lib/python3.9/site-packages (from pandas) (2024.1)\n",
      "Collecting tzdata>=2022.7\n",
      "  Downloading tzdata-2024.1-py2.py3-none-any.whl (345 kB)\n",
      "Requirement already satisfied: six>=1.5 in /usr/local/lib/python3.9/site-packages (from python-dateutil>=2.8.2->pandas) (1.13.0)\n",
      "Installing collected packages: tzdata, python-dateutil, numpy, pandas\n",
      "  Attempting uninstall: python-dateutil\n",
      "    Found existing installation: python-dateutil 2.8.1\n",
      "    Not uninstalling python-dateutil at /usr/lib/python3.9/site-packages, outside environment /mnt/yarn/usercache/livy/appcache/application_1717027860258_0002/container_1717027860258_0002_01_000001/tmp/spark-83a99d2c-a77f-4b61-a739-3ef3cb4b08de\n",
      "    Can't uninstall 'python-dateutil'. No files were found to uninstall.\n",
      "Successfully installed numpy-1.26.4 pandas-2.2.2 python-dateutil-2.9.0.post0 tzdata-2024.1\n",
      "\n",
      "WARNING: The directory '/home/.cache/pip' or its parent directory is not owned or is not writable by the current user. The cache has been disabled. Check the permissions and owner of that directory. If executing pip with sudo, you should use sudo's -H flag.\n",
      "ERROR: pip's dependency resolver does not currently take into account all the packages that are installed. This behaviour is the source of the following dependency conflicts.\n",
      "awscli 2.15.30 requires python-dateutil<=2.8.2,>=2.1, but you have python-dateutil 2.9.0.post0 which is incompatible."
     ]
    }
   ],
   "source": [
    "# Install pandas in EMR cluster\n",
    "sc.install_pypi_package(\"pandas\")"
   ]
  },
  {
   "cell_type": "code",
   "execution_count": 3,
   "id": "a4e7645b",
   "metadata": {},
   "outputs": [
    {
     "data": {
      "application/vnd.jupyter.widget-view+json": {
       "model_id": "282352ec94c648e2b0a2ba1652843479",
       "version_major": 2,
       "version_minor": 0
      },
      "text/plain": [
       "VBox()"
      ]
     },
     "metadata": {},
     "output_type": "display_data"
    },
    {
     "data": {
      "application/vnd.jupyter.widget-view+json": {
       "model_id": "",
       "version_major": 2,
       "version_minor": 0
      },
      "text/plain": [
       "FloatProgress(value=0.0, bar_style='info', description='Progress:', layout=Layout(height='25px', width='50%'),…"
      ]
     },
     "metadata": {},
     "output_type": "display_data"
    }
   ],
   "source": [
    "import pyspark.sql.functions as F\n",
    "from pyspark.sql import SparkSession\n",
    "from pyspark.sql.window import Window\n",
    "\n",
    "# Define schema for each file\n",
    "ratings_schema = \"UserID INT, MovieID INT, Rating FLOAT, Timestamp LONG\"\n",
    "movies_schema = \"MovieID INT, Title STRING, Genres STRING\"\n",
    "\n",
    "# Read the dataset from S3\n",
    "ratings = spark.read.csv(\"s3://assignment6neha/ratings.dat\", sep=\"::\", schema=ratings_schema)\n",
    "movies = spark.read.csv(\"s3://assignment6neha/movies.dat\", sep=\"::\", schema=movies_schema)\n",
    "\n",
    "\n"
   ]
  },
  {
   "cell_type": "code",
   "execution_count": 6,
   "id": "02302bc9",
   "metadata": {},
   "outputs": [
    {
     "data": {
      "application/vnd.jupyter.widget-view+json": {
       "model_id": "06e11ef4e1bf4c2a97cf404200e75ca3",
       "version_major": 2,
       "version_minor": 0
      },
      "text/plain": [
       "VBox()"
      ]
     },
     "metadata": {},
     "output_type": "display_data"
    },
    {
     "data": {
      "application/vnd.jupyter.widget-view+json": {
       "model_id": "",
       "version_major": 2,
       "version_minor": 0
      },
      "text/plain": [
       "FloatProgress(value=0.0, bar_style='info', description='Progress:', layout=Layout(height='25px', width='50%'),…"
      ]
     },
     "metadata": {},
     "output_type": "display_data"
    }
   ],
   "source": [
    "from pyspark.sql.functions import col\n",
    "\n",
    "toy_story_ratings = ratings.filter(col(\"MovieID\") == 1).select(\"UserID\", col(\"MovieID\").alias(\"MovieID1\"), col(\"Rating\").alias(\"Rating1\"))\n"
   ]
  },
  {
   "cell_type": "code",
   "execution_count": 7,
   "id": "58b17ac7",
   "metadata": {},
   "outputs": [
    {
     "data": {
      "application/vnd.jupyter.widget-view+json": {
       "model_id": "a1c344c212e64c568a75c9f2f310d041",
       "version_major": 2,
       "version_minor": 0
      },
      "text/plain": [
       "VBox()"
      ]
     },
     "metadata": {},
     "output_type": "display_data"
    },
    {
     "data": {
      "application/vnd.jupyter.widget-view+json": {
       "model_id": "",
       "version_major": 2,
       "version_minor": 0
      },
      "text/plain": [
       "FloatProgress(value=0.0, bar_style='info', description='Progress:', layout=Layout(height='25px', width='50%'),…"
      ]
     },
     "metadata": {},
     "output_type": "display_data"
    },
    {
     "name": "stdout",
     "output_type": "stream",
     "text": [
      "+------+--------+-------+\n",
      "|UserID|MovieID1|Rating1|\n",
      "+------+--------+-------+\n",
      "|     5|       1|    1.0|\n",
      "|    14|       1|    3.0|\n",
      "|    18|       1|    3.0|\n",
      "|    23|       1|    5.0|\n",
      "|    24|       1|    5.0|\n",
      "|    30|       1|    5.0|\n",
      "|    33|       1|    4.0|\n",
      "|    34|       1|    3.0|\n",
      "|    35|       1|    3.0|\n",
      "|    36|       1|    4.0|\n",
      "|    43|       1|    4.0|\n",
      "|    47|       1|    3.0|\n",
      "|    56|       1|    4.5|\n",
      "|    57|       1|    4.0|\n",
      "|    58|       1|    4.0|\n",
      "|    64|       1|    4.0|\n",
      "|    65|       1|    3.0|\n",
      "|    76|       1|    4.0|\n",
      "|    77|       1|    4.0|\n",
      "|    83|       1|    3.0|\n",
      "+------+--------+-------+\n",
      "only showing top 20 rows"
     ]
    }
   ],
   "source": [
    "toy_story_ratings.show()"
   ]
  },
  {
   "cell_type": "code",
   "execution_count": 8,
   "id": "597f7114",
   "metadata": {},
   "outputs": [
    {
     "data": {
      "application/vnd.jupyter.widget-view+json": {
       "model_id": "94bf260fe9ee40b9bb1d9eb93efbe03c",
       "version_major": 2,
       "version_minor": 0
      },
      "text/plain": [
       "VBox()"
      ]
     },
     "metadata": {},
     "output_type": "display_data"
    },
    {
     "data": {
      "application/vnd.jupyter.widget-view+json": {
       "model_id": "",
       "version_major": 2,
       "version_minor": 0
      },
      "text/plain": [
       "FloatProgress(value=0.0, bar_style='info', description='Progress:', layout=Layout(height='25px', width='50%'),…"
      ]
     },
     "metadata": {},
     "output_type": "display_data"
    },
    {
     "name": "stdout",
     "output_type": "stream",
     "text": [
      "+------+--------+--------+------+-------+\n",
      "|UserID|MovieID2|MovieID1|Rating|Rating1|\n",
      "+------+--------+--------+------+-------+\n",
      "|   148|      17|       1|   5.0|    5.0|\n",
      "|   148|      21|       1|   4.0|    5.0|\n",
      "|   148|      29|       1|   5.0|    5.0|\n",
      "|   148|      32|       1|   5.0|    5.0|\n",
      "|   148|      34|       1|   5.0|    5.0|\n",
      "|   148|      43|       1|   4.0|    5.0|\n",
      "|   148|      47|       1|   4.0|    5.0|\n",
      "|   148|      50|       1|   5.0|    5.0|\n",
      "|   148|      70|       1|   5.0|    5.0|\n",
      "|   148|     112|       1|   4.0|    5.0|\n",
      "|   148|     123|       1|   5.0|    5.0|\n",
      "|   148|     141|       1|   4.0|    5.0|\n",
      "|   148|     150|       1|   5.0|    5.0|\n",
      "|   148|     161|       1|   4.0|    5.0|\n",
      "|   148|     180|       1|   4.0|    5.0|\n",
      "|   148|     260|       1|   5.0|    5.0|\n",
      "|   148|     266|       1|   2.0|    5.0|\n",
      "|   148|     272|       1|   4.0|    5.0|\n",
      "|   148|     293|       1|   5.0|    5.0|\n",
      "|   148|     296|       1|   5.0|    5.0|\n",
      "+------+--------+--------+------+-------+\n",
      "only showing top 20 rows"
     ]
    }
   ],
   "source": [
    "joined_ratings = ratings.alias(\"r1\").join(toy_story_ratings.alias(\"r2\"), \"UserID\", \"inner\") \\\n",
    "    .filter(col(\"r1.MovieID\") != 1)  # Exclude Toy Story itself from the join\n",
    "\n",
    "# Select relevant columns\n",
    "combined_ratings = joined_ratings.select(\"UserID\", \"r1.MovieID\", \"MovieID1\", \"r1.Rating\", \"Rating1\")\n",
    "\n",
    "# Rename columns for clarity\n",
    "combined_ratings = combined_ratings.withColumnRenamed(\"MovieID\", \"MovieID2\").withColumnRenamed(\"r1.Rating\", \"Rating2\")\n",
    "\n",
    "# Show the resulting DataFrame\n",
    "combined_ratings.show()"
   ]
  },
  {
   "cell_type": "code",
   "execution_count": 13,
   "id": "2937d368",
   "metadata": {},
   "outputs": [
    {
     "data": {
      "application/vnd.jupyter.widget-view+json": {
       "model_id": "b9cccb600fb74a8b813640fc0c3ed9c9",
       "version_major": 2,
       "version_minor": 0
      },
      "text/plain": [
       "VBox()"
      ]
     },
     "metadata": {},
     "output_type": "display_data"
    },
    {
     "data": {
      "application/vnd.jupyter.widget-view+json": {
       "model_id": "",
       "version_major": 2,
       "version_minor": 0
      },
      "text/plain": [
       "FloatProgress(value=0.0, bar_style='info', description='Progress:', layout=Layout(height='25px', width='50%'),…"
      ]
     },
     "metadata": {},
     "output_type": "display_data"
    }
   ],
   "source": [
    "from pyspark.sql.functions import collect_list\n",
    "\n",
    "# Group by MovieID1 and MovieID2 pairs and collect the ratings into arrays\n",
    "grouped_df = combined_ratings.groupby(\"MovieID1\", \"MovieID2\").agg(collect_list(\"Rating\").alias(\"Ratings1\"),\n",
    "                                                                 collect_list(\"Rating1\").alias(\"Ratings2\"))"
   ]
  },
  {
   "cell_type": "code",
   "execution_count": 14,
   "id": "5372358b",
   "metadata": {},
   "outputs": [
    {
     "data": {
      "application/vnd.jupyter.widget-view+json": {
       "model_id": "c6e75359120240e4921d1d126112de4d",
       "version_major": 2,
       "version_minor": 0
      },
      "text/plain": [
       "VBox()"
      ]
     },
     "metadata": {},
     "output_type": "display_data"
    },
    {
     "data": {
      "application/vnd.jupyter.widget-view+json": {
       "model_id": "",
       "version_major": 2,
       "version_minor": 0
      },
      "text/plain": [
       "FloatProgress(value=0.0, bar_style='info', description='Progress:', layout=Layout(height='25px', width='50%'),…"
      ]
     },
     "metadata": {},
     "output_type": "display_data"
    },
    {
     "name": "stdout",
     "output_type": "stream",
     "text": [
      "+--------+--------+--------------------+--------------------+\n",
      "|MovieID1|MovieID2|            Ratings1|            Ratings2|\n",
      "+--------+--------+--------------------+--------------------+\n",
      "|       1|       9|[2.0, 1.0, 3.0, 3...|[4.0, 3.0, 5.0, 3...|\n",
      "|       1|      20|[2.0, 0.5, 3.0, 1...|[5.0, 3.0, 3.5, 3...|\n",
      "|       1|     124|[3.0, 5.0, 4.0, 3...|[4.0, 3.0, 4.0, 5...|\n",
      "|       1|     199|[5.0, 4.5, 3.0, 5...|[3.5, 5.0, 4.0, 2...|\n",
      "|       1|     204|[3.0, 4.0, 3.0, 1...|[5.0, 3.0, 4.0, 3...|\n",
      "|       1|     213|[4.0, 4.0, 2.0, 4...|[5.0, 4.0, 5.0, 4...|\n",
      "|       1|     269|[3.0, 3.5, 3.0, 4...|[3.0, 4.0, 2.0, 5...|\n",
      "|       1|     349|[4.0, 3.0, 4.0, 3...|[5.0, 3.0, 4.0, 3...|\n",
      "|       1|     381|[2.5, 4.0, 3.0, 2...|[4.0, 4.0, 4.0, 3...|\n",
      "|       1|     398|[3.0, 2.0, 4.0, 3...|[3.0, 3.0, 4.0, 5...|\n",
      "|       1|     433|[2.0, 3.0, 4.0, 2...|[4.0, 4.0, 5.0, 3...|\n",
      "|       1|     449|[4.0, 5.0, 2.0, 3...|[4.0, 2.0, 4.5, 4...|\n",
      "|       1|     527|[3.0, 5.0, 5.0, 5...|[3.0, 4.0, 4.0, 4...|\n",
      "|       1|     549|[3.0, 3.0, 4.0, 4...|[4.0, 2.0, 4.5, 5...|\n",
      "|       1|     619|[2.0, 1.5, 4.0, 2...|[5.0, 5.0, 5.0, 3...|\n",
      "|       1|     636|[4.0, 1.0, 5.0, 1...|[4.0, 1.0, 5.0, 2...|\n",
      "|       1|     655|[2.0, 5.0, 3.0, 2...|[1.0, 5.0, 3.0, 2...|\n",
      "|       1|     666|[4.0, 2.0, 4.0, 3...|[4.0, 3.0, 3.0, 3...|\n",
      "|       1|     670|[5.0, 4.5, 5.0, 5...|[4.0, 4.0, 4.5, 5...|\n",
      "|       1|     685|[5.0, 3.0, 3.0, 5...|[5.0, 4.0, 5.0, 4...|\n",
      "+--------+--------+--------------------+--------------------+\n",
      "only showing top 20 rows"
     ]
    }
   ],
   "source": [
    "grouped_df.show()"
   ]
  },
  {
   "cell_type": "code",
   "execution_count": 51,
   "id": "50263dcd",
   "metadata": {},
   "outputs": [
    {
     "data": {
      "application/vnd.jupyter.widget-view+json": {
       "model_id": "7ab67361c8a04eb1a0b26c0b1960d6a6",
       "version_major": 2,
       "version_minor": 0
      },
      "text/plain": [
       "VBox()"
      ]
     },
     "metadata": {},
     "output_type": "display_data"
    },
    {
     "data": {
      "application/vnd.jupyter.widget-view+json": {
       "model_id": "",
       "version_major": 2,
       "version_minor": 0
      },
      "text/plain": [
       "FloatProgress(value=0.0, bar_style='info', description='Progress:', layout=Layout(height='25px', width='50%'),…"
      ]
     },
     "metadata": {},
     "output_type": "display_data"
    },
    {
     "name": "stdout",
     "output_type": "stream",
     "text": [
      "+--------+--------+--------------------+\n",
      "|MovieID1|MovieID2|             Ratings|\n",
      "+--------+--------+--------------------+\n",
      "|       1|       9|[{3.0, 3.0}, {2.5...|\n",
      "|       1|      20|[{4.0, 3.5}, {4.0...|\n",
      "|       1|     124|[{5.0, 4.0}, {4.0...|\n",
      "|       1|     199|[{5.0, 4.0}, {4.0...|\n",
      "|       1|     204|[{4.0, 3.0}, {5.0...|\n",
      "|       1|     213|[{3.0, 4.0}, {4.0...|\n",
      "|       1|     269|[{5.0, 5.0}, {3.0...|\n",
      "|       1|     349|[{4.0, 5.0}, {4.0...|\n",
      "|       1|     381|[{5.0, 4.0}, {4.0...|\n",
      "|       1|     398|[{4.0, 4.0}, {4.0...|\n",
      "|       1|     433|[{3.0, 4.0}, {3.0...|\n",
      "|       1|     449|[{3.5, 3.0}, {4.0...|\n",
      "|       1|     527|[{4.0, 4.0}, {2.0...|\n",
      "|       1|     549|[{5.0, 3.0}, {5.0...|\n",
      "|       1|     619|[{3.0, 3.0}, {2.0...|\n",
      "|       1|     636|[{1.0, 2.0}, {3.0...|\n",
      "|       1|     655|[{2.0, 2.0}, {2.0...|\n",
      "|       1|     666|[{3.0, 4.0}, {3.0...|\n",
      "|       1|     670|[{1.5, 3.0}, {5.0...|\n",
      "|       1|     685|[{2.0, 4.0}, {5.0...|\n",
      "+--------+--------+--------------------+\n",
      "only showing top 20 rows"
     ]
    }
   ],
   "source": [
    "from pyspark.sql.functions import arrays_zip, col\n",
    "\n",
    "# Combine the Ratings1 and Ratings2 arrays into an array of structs\n",
    "ratings_array = arrays_zip(col(\"Ratings1\"), col(\"Ratings2\")).alias(\"Ratings\")\n",
    "\n",
    "# Select MovieID1, MovieID2, and the combined Ratings array\n",
    "result_df = grouped_df.select(\"MovieID1\", \"MovieID2\", ratings_array)\n",
    "\n",
    "# Show the result\n",
    "result_df.show()"
   ]
  },
  {
   "cell_type": "code",
   "execution_count": 20,
   "id": "9b444047",
   "metadata": {},
   "outputs": [
    {
     "data": {
      "application/vnd.jupyter.widget-view+json": {
       "model_id": "903a50159f764c09ba121fff1e6c9980",
       "version_major": 2,
       "version_minor": 0
      },
      "text/plain": [
       "VBox()"
      ]
     },
     "metadata": {},
     "output_type": "display_data"
    },
    {
     "data": {
      "application/vnd.jupyter.widget-view+json": {
       "model_id": "",
       "version_major": 2,
       "version_minor": 0
      },
      "text/plain": [
       "FloatProgress(value=0.0, bar_style='info', description='Progress:', layout=Layout(height='25px', width='50%'),…"
      ]
     },
     "metadata": {},
     "output_type": "display_data"
    },
    {
     "name": "stdout",
     "output_type": "stream",
     "text": [
      "[('MovieID1', 'int'), ('MovieID2', 'int'), ('Ratings', 'array<struct<Ratings1:float,Ratings2:float>>')]"
     ]
    }
   ],
   "source": [
    "result_df.dtypes"
   ]
  },
  {
   "cell_type": "code",
   "execution_count": 53,
   "id": "5b871c5a",
   "metadata": {},
   "outputs": [
    {
     "data": {
      "application/vnd.jupyter.widget-view+json": {
       "model_id": "31a15218c87642849d10ef820fd43345",
       "version_major": 2,
       "version_minor": 0
      },
      "text/plain": [
       "VBox()"
      ]
     },
     "metadata": {},
     "output_type": "display_data"
    },
    {
     "data": {
      "application/vnd.jupyter.widget-view+json": {
       "model_id": "",
       "version_major": 2,
       "version_minor": 0
      },
      "text/plain": [
       "FloatProgress(value=0.0, bar_style='info', description='Progress:', layout=Layout(height='25px', width='50%'),…"
      ]
     },
     "metadata": {},
     "output_type": "display_data"
    }
   ],
   "source": [
    "from math import sqrt\n",
    "from pyspark.sql.types import StructType, StructField, FloatType, IntegerType\n",
    "\n",
    "# Define the cosine_similarity function\n",
    "def cosine_similarity(ratings):\n",
    "    numPairs = 0\n",
    "    sum_xx = sum_yy = sum_xy = 0\n",
    "    \n",
    "    # Iterate over each rating pair\n",
    "    for ratingPair in ratings:\n",
    "        ratingX, ratingY = ratingPair\n",
    "        sum_xx += ratingX * ratingX\n",
    "        sum_yy += ratingY * ratingY\n",
    "        sum_xy += ratingX * ratingY\n",
    "        numPairs += 1\n",
    "\n",
    "    # Calculate cosine similarity\n",
    "    numerator = sum_xy\n",
    "    denominator = sqrt(sum_xx) * sqrt(sum_yy)\n",
    "    score = 0 if denominator == 0 else numerator / denominator\n",
    "    \n",
    "    # Return the result as a struct\n",
    "    return (score, numPairs)\n",
    "\n",
    "# Define the schema for the struct\n",
    "schema = StructType([\n",
    "    StructField(\"Score\", FloatType(), nullable=False),\n",
    "    StructField(\"NumPairs\", IntegerType(), nullable=False)\n",
    "])\n",
    "\n",
    "# Register the cosine_similarity function as a UDF\n",
    "cosine_similarity_udf = udf(cosine_similarity, schema)\n"
   ]
  },
  {
   "cell_type": "code",
   "execution_count": 54,
   "id": "a3fc3c0b",
   "metadata": {},
   "outputs": [
    {
     "data": {
      "application/vnd.jupyter.widget-view+json": {
       "model_id": "8b5b6cfa4ec941c382391e57220cf508",
       "version_major": 2,
       "version_minor": 0
      },
      "text/plain": [
       "VBox()"
      ]
     },
     "metadata": {},
     "output_type": "display_data"
    },
    {
     "data": {
      "application/vnd.jupyter.widget-view+json": {
       "model_id": "",
       "version_major": 2,
       "version_minor": 0
      },
      "text/plain": [
       "FloatProgress(value=0.0, bar_style='info', description='Progress:', layout=Layout(height='25px', width='50%'),…"
      ]
     },
     "metadata": {},
     "output_type": "display_data"
    },
    {
     "name": "stdout",
     "output_type": "stream",
     "text": [
      "+--------+--------+--------------------+------------------+----------+--------+\n",
      "|MovieID1|MovieID2|             Ratings|  CosineSimilarity|     Score|NumPairs|\n",
      "+--------+--------+--------------------+------------------+----------+--------+\n",
      "|       1|       9|[{1.5, 2.5}, {4.0...|{0.93348676, 1637}|0.93348676|    1637|\n",
      "|       1|      20|[{3.0, 4.0}, {3.0...|  {0.930877, 1308}|  0.930877|    1308|\n",
      "|       1|     124|[{5.0, 5.0}, {3.0...|  {0.9424575, 132}| 0.9424575|     132|\n",
      "|       1|     199|[{4.0, 4.0}, {2.0...| {0.94670266, 496}|0.94670266|     496|\n",
      "|       1|     204|[{3.0, 4.0}, {2.0...| {0.9255814, 2277}| 0.9255814|    2277|\n",
      "|       1|     213|[{3.5, 4.0}, {3.0...| {0.95106447, 531}|0.95106447|     531|\n",
      "|       1|     269|[{2.0, 4.0}, {3.0...| {0.94344777, 224}|0.94344777|     224|\n",
      "|       1|     349|[{2.5, 4.0}, {5.0...| {0.9611848, 7993}| 0.9611848|    7993|\n",
      "|       1|     381|[{3.0, 4.0}, {3.0...|{0.94690937, 1373}|0.94690937|    1373|\n",
      "|       1|     398|[{3.0, 5.0}, {1.0...|   {0.9634455, 26}| 0.9634455|      26|\n",
      "|       1|     433|[{2.0, 4.0}, {2.0...|  {0.9435625, 478}| 0.9435625|     478|\n",
      "|       1|     449|[{3.0, 2.0}, {1.0...|  {0.9406916, 295}| 0.9406916|     295|\n",
      "|       1|     527|[{5.0, 3.0}, {4.0...|{0.9700795, 12007}| 0.9700795|   12007|\n",
      "|       1|     549|[{4.0, 5.0}, {5.0...|  {0.9492634, 520}| 0.9492634|     520|\n",
      "|       1|     619|[{2.0, 5.0}, {3.0...| {0.89199066, 335}|0.89199066|     335|\n",
      "|       1|     636|[{4.0, 3.0}, {1.0...|   {0.9479481, 17}| 0.9479481|      17|\n",
      "|       1|     655|[{3.0, 5.0}, {2.0...|    {0.9370695, 8}| 0.9370695|       8|\n",
      "|       1|     666|[{3.5, 2.5}, {4.0...|   {0.9466069, 55}| 0.9466069|      55|\n",
      "|       1|     670|[{5.0, 4.0}, {5.0...|  {0.9475225, 216}| 0.9475225|     216|\n",
      "|       1|     685|[{4.0, 3.0}, {2.0...|  {0.9363498, 223}| 0.9363498|     223|\n",
      "+--------+--------+--------------------+------------------+----------+--------+\n",
      "only showing top 20 rows"
     ]
    }
   ],
   "source": [
    "result_df1 = result_df\n",
    "result_df1 = result_df1.withColumn(\"CosineSimilarity\", cosine_similarity_udf(\"Ratings\"))\n",
    "\n",
    "# Extract the \"Score\" and \"NumPairs\" fields from the \"CosineSimilarity\" struct column\n",
    "result_df1 = result_df1.withColumn(\"Score\", result_df1[\"CosineSimilarity\"][\"Score\"])\n",
    "result_df1 = result_df1.withColumn(\"NumPairs\", result_df1[\"CosineSimilarity\"][\"NumPairs\"])\n",
    "\n",
    "# Drop the \"CosineSimilarity\" column as it's no longer needed\n",
    "#result_df1 = result_df1.drop(\"CosineSimilarity\")\n",
    "\n",
    "# Show the updated DataFrame\n",
    "result_df1.show()"
   ]
  },
  {
   "cell_type": "code",
   "execution_count": 61,
   "id": "abbc2338",
   "metadata": {},
   "outputs": [
    {
     "data": {
      "application/vnd.jupyter.widget-view+json": {
       "model_id": "3e8f460ec7df4adea3e9c16717abc2d7",
       "version_major": 2,
       "version_minor": 0
      },
      "text/plain": [
       "VBox()"
      ]
     },
     "metadata": {},
     "output_type": "display_data"
    },
    {
     "data": {
      "application/vnd.jupyter.widget-view+json": {
       "model_id": "",
       "version_major": 2,
       "version_minor": 0
      },
      "text/plain": [
       "FloatProgress(value=0.0, bar_style='info', description='Progress:', layout=Layout(height='25px', width='50%'),…"
      ]
     },
     "metadata": {},
     "output_type": "display_data"
    },
    {
     "name": "stdout",
     "output_type": "stream",
     "text": [
      "+--------+--------+--------------------+----------------+----------+--------+\n",
      "|MovieID1|MovieID2|             Ratings|CosineSimilarity|     Score|NumPairs|\n",
      "+--------+--------+--------------------+----------------+----------+--------+\n",
      "|       1|    6336|[{4.0, 4.0}, {3.5...|{0.99469984, 13}|0.99469984|      13|\n",
      "|       1|   41831|[{3.0, 3.0}, {4.5...|{0.99301666, 17}|0.99301666|      17|\n",
      "|       1|    8422|[{4.0, 4.5}, {3.5...|{0.99198604, 17}|0.99198604|      17|\n",
      "|       1|   55895|[{3.0, 3.5}, {3.5...| {0.9902073, 15}| 0.9902073|      15|\n",
      "|       1|    7273|[{3.0, 5.0}, {2.0...| {0.9896856, 11}| 0.9896856|      11|\n",
      "|       1|   25931|[{3.0, 5.0}, {3.5...|{0.98955035, 12}|0.98955035|      12|\n",
      "|       1|   32781|[{4.0, 5.0}, {3.0...| {0.9892781, 24}| 0.9892781|      24|\n",
      "|       1|   62801|[{4.0, 4.5}, {3.5...|{0.98892105, 17}|0.98892105|      17|\n",
      "|       1|   26996|[{3.5, 4.5}, {2.5...|{0.98886037, 11}|0.98886037|      11|\n",
      "|       1|   39896|[{3.0, 4.5}, {2.5...| {0.9883148, 12}| 0.9883148|      12|\n",
      "+--------+--------+--------------------+----------------+----------+--------+"
     ]
    }
   ],
   "source": [
    "filtered_df = result_df1.filter((result_df1[\"NumPairs\"] > 10) & (result_df1[\"Score\"] > 0.95))\n",
    "filtered_df = filtered_df.orderBy(\"Score\", ascending=False)\n",
    "\n",
    "top_10_df = filtered_df.limit(10)\n",
    "\n",
    "# Show the top 10 similar movies\n",
    "top_10_df.show()"
   ]
  },
  {
   "cell_type": "code",
   "execution_count": 65,
   "id": "2b21868a",
   "metadata": {},
   "outputs": [
    {
     "data": {
      "application/vnd.jupyter.widget-view+json": {
       "model_id": "22f75493b13d4ef6bc0e15190e385afd",
       "version_major": 2,
       "version_minor": 0
      },
      "text/plain": [
       "VBox()"
      ]
     },
     "metadata": {},
     "output_type": "display_data"
    },
    {
     "data": {
      "application/vnd.jupyter.widget-view+json": {
       "model_id": "",
       "version_major": 2,
       "version_minor": 0
      },
      "text/plain": [
       "FloatProgress(value=0.0, bar_style='info', description='Progress:', layout=Layout(height='25px', width='50%'),…"
      ]
     },
     "metadata": {},
     "output_type": "display_data"
    },
    {
     "name": "stdout",
     "output_type": "stream",
     "text": [
      "+----------------+--------------------+--------------------+----------------+----------+--------+\n",
      "|          Movie1|              Movie2|             Ratings|CosineSimilarity|     Score|NumPairs|\n",
      "+----------------+--------------------+--------------------+----------------+----------+--------+\n",
      "|Toy Story (1995)|South Central (1992)|[{2.5, 4.0}, {3.5...| {0.9883148, 12}| 0.9883148|      12|\n",
      "|Toy Story (1995)|   Safe House (1998)|[{3.5, 4.5}, {2.5...|{0.98886037, 11}|0.98886037|      11|\n",
      "|Toy Story (1995)|Lone Wolf and Cub...|[{3.5, 3.5}, {4.5...|{0.98892105, 17}|0.98892105|      17|\n",
      "|Toy Story (1995)|       Hawaii (1966)|[{3.0, 4.5}, {3.0...| {0.9892781, 24}| 0.9892781|      24|\n",
      "|Toy Story (1995)|  Road to Rio (1947)|[{3.5, 5.0}, {4.0...|{0.98955035, 12}|0.98955035|      12|\n",
      "|Toy Story (1995)|Piece of the Acti...|[{3.5, 5.0}, {2.5...| {0.9896856, 11}| 0.9896856|      11|\n",
      "|Toy Story (1995)|Desperate Hours, ...|[{4.0, 4.0}, {4.0...| {0.9902073, 15}| 0.9902073|      15|\n",
      "|Toy Story (1995)|    Kings Row (1942)|[{3.5, 4.0}, {3.0...|{0.99198604, 17}|0.99198604|      17|\n",
      "|Toy Story (1995)|They Died with Th...|[{3.0, 3.0}, {4.5...|{0.99301666, 17}|0.99301666|      17|\n",
      "|Toy Story (1995)|Marooned in Iraq ...|[{3.0, 4.0}, {3.5...|{0.99469984, 13}|0.99469984|      13|\n",
      "+----------------+--------------------+--------------------+----------------+----------+--------+"
     ]
    }
   ],
   "source": [
    "from pyspark.sql.functions import col\n",
    "\n",
    "# Perform two join operations to replace MovieID1 and MovieID2 with movie names\n",
    "result_df_with_names = top_10_df.join(movies.withColumnRenamed(\"MovieID\", \"MovieID1\").alias(\"movies1\"), \"MovieID1\") \\\n",
    "    .join(movies.withColumnRenamed(\"MovieID\", \"MovieID2\").alias(\"movies2\"), \"MovieID2\") \\\n",
    "    .select(col(\"movies1.Title\").alias(\"Movie1\"), col(\"movies2.Title\").alias(\"Movie2\"), \"Ratings\", \"CosineSimilarity\", \"Score\", \"NumPairs\")\n",
    "\n",
    "# Show the DataFrame with movie names\n",
    "result_df_with_names.show()\n"
   ]
  },
  {
   "cell_type": "code",
   "execution_count": 66,
   "id": "06bf5d81",
   "metadata": {},
   "outputs": [
    {
     "data": {
      "application/vnd.jupyter.widget-view+json": {
       "model_id": "c07f6f35d30f40f998fa341da3910223",
       "version_major": 2,
       "version_minor": 0
      },
      "text/plain": [
       "VBox()"
      ]
     },
     "metadata": {},
     "output_type": "display_data"
    },
    {
     "data": {
      "application/vnd.jupyter.widget-view+json": {
       "model_id": "",
       "version_major": 2,
       "version_minor": 0
      },
      "text/plain": [
       "FloatProgress(value=0.0, bar_style='info', description='Progress:', layout=Layout(height='25px', width='50%'),…"
      ]
     },
     "metadata": {},
     "output_type": "display_data"
    },
    {
     "name": "stdout",
     "output_type": "stream",
     "text": [
      "10"
     ]
    }
   ],
   "source": [
    "result_df_with_names.count()"
   ]
  },
  {
   "cell_type": "code",
   "execution_count": 68,
   "id": "46813f8e",
   "metadata": {},
   "outputs": [
    {
     "data": {
      "application/vnd.jupyter.widget-view+json": {
       "model_id": "4145bfdc573d48fab7498b6879371fc4",
       "version_major": 2,
       "version_minor": 0
      },
      "text/plain": [
       "VBox()"
      ]
     },
     "metadata": {},
     "output_type": "display_data"
    },
    {
     "data": {
      "application/vnd.jupyter.widget-view+json": {
       "model_id": "",
       "version_major": 2,
       "version_minor": 0
      },
      "text/plain": [
       "FloatProgress(value=0.0, bar_style='info', description='Progress:', layout=Layout(height='25px', width='50%'),…"
      ]
     },
     "metadata": {},
     "output_type": "display_data"
    },
    {
     "name": "stdout",
     "output_type": "stream",
     "text": [
      "+----------------+--------------------+----------+\n",
      "|      Movie Name|      Similar Movies|     Score|\n",
      "+----------------+--------------------+----------+\n",
      "|Toy Story (1995)|South Central (1992)| 0.9883148|\n",
      "|Toy Story (1995)|   Safe House (1998)|0.98886037|\n",
      "|Toy Story (1995)|Lone Wolf and Cub...|0.98892105|\n",
      "|Toy Story (1995)|       Hawaii (1966)| 0.9892781|\n",
      "|Toy Story (1995)|  Road to Rio (1947)|0.98955035|\n",
      "|Toy Story (1995)|Piece of the Acti...| 0.9896856|\n",
      "|Toy Story (1995)|Desperate Hours, ...| 0.9902073|\n",
      "|Toy Story (1995)|    Kings Row (1942)|0.99198604|\n",
      "|Toy Story (1995)|They Died with Th...|0.99301666|\n",
      "|Toy Story (1995)|Marooned in Iraq ...|0.99469984|\n",
      "+----------------+--------------------+----------+"
     ]
    }
   ],
   "source": [
    "from pyspark.sql.functions import col\n",
    "\n",
    "# Drop the columns \"CosineSimilarity\" and \"NumPairs\"\n",
    "result_df_with_names_dropped = result_df_with_names.drop(\"CosineSimilarity\", \"NumPairs\", \"Ratings\")\n",
    "\n",
    "# Rename the columns \"Movie1\" and \"Movie2\"\n",
    "result_df_with_names_renamed = result_df_with_names_dropped \\\n",
    "    .withColumnRenamed(\"Movie1\", \"Movie Name\") \\\n",
    "    .withColumnRenamed(\"Movie2\", \"Similar Movies\")\n",
    "\n",
    "# Show the DataFrame with the desired column names\n",
    "result_df_with_names_renamed.show()"
   ]
  },
  {
   "cell_type": "code",
   "execution_count": 69,
   "id": "5aff0acc",
   "metadata": {},
   "outputs": [
    {
     "data": {
      "application/vnd.jupyter.widget-view+json": {
       "model_id": "b99d6aa9ac0342d4b0a6fb172a8f3d5f",
       "version_major": 2,
       "version_minor": 0
      },
      "text/plain": [
       "VBox()"
      ]
     },
     "metadata": {},
     "output_type": "display_data"
    },
    {
     "data": {
      "application/vnd.jupyter.widget-view+json": {
       "model_id": "",
       "version_major": 2,
       "version_minor": 0
      },
      "text/plain": [
       "FloatProgress(value=0.0, bar_style='info', description='Progress:', layout=Layout(height='25px', width='50%'),…"
      ]
     },
     "metadata": {},
     "output_type": "display_data"
    },
    {
     "name": "stdout",
     "output_type": "stream",
     "text": [
      "+----------------+--------------------+----------+\n",
      "|      Movie Name|      Similar Movies|     Score|\n",
      "+----------------+--------------------+----------+\n",
      "|Toy Story (1995)|Marooned in Iraq ...|0.99469984|\n",
      "|Toy Story (1995)|They Died with Th...|0.99301666|\n",
      "|Toy Story (1995)|    Kings Row (1942)|0.99198604|\n",
      "|Toy Story (1995)|Desperate Hours, ...| 0.9902073|\n",
      "|Toy Story (1995)|Piece of the Acti...| 0.9896856|\n",
      "|Toy Story (1995)|  Road to Rio (1947)|0.98955035|\n",
      "|Toy Story (1995)|       Hawaii (1966)| 0.9892781|\n",
      "|Toy Story (1995)|Lone Wolf and Cub...|0.98892105|\n",
      "|Toy Story (1995)|   Safe House (1998)|0.98886037|\n",
      "|Toy Story (1995)|South Central (1992)| 0.9883148|\n",
      "+----------------+--------------------+----------+"
     ]
    }
   ],
   "source": [
    "from pyspark.sql.functions import desc\n",
    "\n",
    "# Sort the DataFrame in descending order based on the \"Score\" column\n",
    "result_df_with_names_sorted = result_df_with_names_renamed.orderBy(desc(\"Score\"))\n",
    "\n",
    "# Show the sorted DataFrame\n",
    "result_df_with_names_sorted.show()"
   ]
  },
  {
   "cell_type": "code",
   "execution_count": null,
   "id": "13723474",
   "metadata": {},
   "outputs": [],
   "source": []
  }
 ],
 "metadata": {
  "kernelspec": {
   "display_name": "PySpark",
   "language": "python",
   "name": "pysparkkernel"
  },
  "language_info": {
   "codemirror_mode": {
    "name": "python",
    "version": 3
   },
   "file_extension": ".py",
   "mimetype": "text/x-python",
   "name": "pyspark",
   "pygments_lexer": "python3"
  }
 },
 "nbformat": 4,
 "nbformat_minor": 5
}
